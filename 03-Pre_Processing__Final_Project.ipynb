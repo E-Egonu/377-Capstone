{
  "nbformat": 4,
  "nbformat_minor": 0,
  "metadata": {
    "colab": {
      "provenance": []
    },
    "kernelspec": {
      "name": "python3",
      "display_name": "Python 3"
    },
    "language_info": {
      "name": "python"
    }
  },
  "cells": [
    {
      "cell_type": "code",
      "execution_count": null,
      "metadata": {
        "id": "Ce4PD-KJWx-x"
      },
      "outputs": [],
      "source": [
        "import datetime as dt\n",
        "import yfinance as yf\n",
        "import pandas as pd\n",
        "import numpy as np\n",
        "import datetime as dt\n",
        "import math\n",
        "import matplotlib.pyplot as plt\n",
        "import seaborn as sns\n",
        "import scipy.optimize as sco\n",
        "import requests\n",
        "from sklearn.linear_model import LinearRegression as linreg\n",
        "import warnings\n",
        "warnings.filterwarnings(\"ignore\")"
      ]
    },
    {
      "cell_type": "code",
      "source": [
        "ssga = \"https://www.ssga.com/us/en/individual/etfs/library-content/products/fund-data/etfs/us/holdings-daily-us-en-spy.xlsx\"\n",
        "spy_listings = list(pd.read_excel(ssga, header=4).Ticker.dropna())\n",
        "data = yf.download(spy_listings, period=\"10y\")\n",
        "data = data.dropna(how=\"all\", axis=1)\n",
        "tickers = list(data['Close'])"
      ],
      "metadata": {
        "id": "sDCd7v4TW3wP"
      },
      "execution_count": null,
      "outputs": []
    },
    {
      "cell_type": "code",
      "source": [
        "# prompt: count the number of nans in the dataframe data\n",
        "data.isnull().sum().sum()\n",
        "\n",
        "# prompt: code that removes all nans files across the axis\n",
        "data = data.dropna(axis=0)\n",
        "\n",
        "#check wuill confirm all nans are removed\n",
        "data.isnull().sum().sum()"
      ],
      "metadata": {
        "id": "gSiW7wTUW700"
      },
      "execution_count": null,
      "outputs": []
    },
    {
      "cell_type": "markdown",
      "metadata": {
        "id": "_w2nHXsdKZQ1"
      },
      "source": [
        "PRICE MOMENTUM FACTORS & IDENTIFYING LONG AND SHORT ASSETS"
      ]
    },
    {
      "cell_type": "code",
      "execution_count": null,
      "metadata": {
        "id": "flBiXCcHYZiR"
      },
      "outputs": [],
      "source": [
        "class momentum_factors:\n",
        "    def __init__(self, spy_listings, tickers):\n",
        "        self.price, self.volume = spy_listings['Close'], spy_listings['Volume']\n",
        "        self.returns = self.price.pct_change()\n",
        "        self.tickers = tickers\n",
        "\n",
        "        self.momentumdf = pd.DataFrame(index=self.tickers)\n",
        "\n",
        "    def trend(self, input_df):\n",
        "        self.input_df = input_df\n",
        "        self.trend_df = pd.DataFrame(index=self.tickers)\n",
        "\n",
        "        for i in range(1, 21):\n",
        "            self.trend_df[i] = np.polyfit(\n",
        "                range(252),\n",
        "                self.input_df[-i-252: -i],\n",
        "                1,\n",
        "            )[0]\n",
        "\n",
        "        return self.trend_df.mean(axis=1)\n",
        "\n",
        "    def price_momentumfactors(self):\n",
        "\n",
        "        # Run 52-Wk Trend Func.\n",
        "        self.momentumdf[\"trend\"] = self.trend(input_df=self.price)\n",
        "\n",
        "        # Percent Above\n",
        "        self.roll_min = self.price.rolling(252).min()\n",
        "        self.momentumdf[\"pct_above\"] = ((self.price - self.roll_min) / self.roll_min)[-20:].mean()\n",
        "\n",
        "        # Price Osc.\n",
        "        self.rolling_260 = self.price.rolling(260)\n",
        "        self.momentumdf[\"p_osc\"] = (\n",
        "            (self.price.rolling(20).mean() - self.rolling_260.mean()) /\n",
        "            self.rolling_260.std()\n",
        "        )[-20:].mean()\n",
        "\n",
        "        # 39-Wk Ret.\n",
        "        self.momentumdf[\"39_wk_ret\"] = self.price.pct_change(189)[-20:].mean()\n",
        "\n",
        "        # Price Vol. Trend\n",
        "        self.price_volumedf = self.price * self.volume\n",
        "        self.momentumdf[\"price_volume\"] = self.trend(input_df=self.price_volumedf)\n",
        "\n",
        "        return ((self.momentumdf - self.momentumdf.mean()) / self.momentumdf.std()).sum(axis=1)\n",
        "\n",
        "    def baskets(self):\n",
        "          self.momentumscore = self.price_momentumfactors()\n",
        "          self.z_scored = self.momentumscore\n",
        "\n",
        "          return self.z_scored.nlargest(10).index, self.z_scored.nsmallest(10).index\n"
      ]
    },
    {
      "cell_type": "markdown",
      "source": [
        "CLASS FOR EFFICIENT FRONTIER USING MONTE CARLO METHOD"
      ],
      "metadata": {
        "id": "lNEfzXRxXihi"
      }
    },
    {
      "cell_type": "code",
      "source": [
        "class EfficientFrontier:\n",
        "    def __init__(self,returns, assets):\n",
        "        self.returns = returns\n",
        "        self.assets = assets\n",
        "\n",
        "    def Calc(self):\n",
        "        self.tbl = pd.DataFrame(index = self.assets)\n",
        "        self.tbl['Mean'] = self.returns.mean()\n",
        "        self.tbl['Variance'] = self.returns.var()\n",
        "        return self.tbl.T\n",
        "\n",
        "   #CORRELATION\n",
        "    def correlation(self):\n",
        "        self.tbl = pd.DataFrame(index = self.assets)\n",
        "        self.corr = self.returns.corr()\n",
        "        return self.corr\n",
        "\n",
        "    #PORTFOLIO RETURN\n",
        "    def PortfolioReturn(self, weight):\n",
        "        return np.sum(self.returns.mean() * weight) * 252\n",
        "\n",
        "    #VOLATILITY\n",
        "    def PortfolioVolatility(self, weight):\n",
        "        return np.sqrt(np.dot(weight.T, np.dot(self.returns.cov() * 252, weight)))\n",
        "\n",
        "    #MONTE CARLO\n",
        "    def MonteCarlo(self, simulations = 100000):\n",
        "        returnCol = []\n",
        "        volatilityCol = []\n",
        "        weightsCol = []\n",
        "        sharperatioCol = []\n",
        "\n",
        "        for i in range (simulations):\n",
        "            weights = np.random.random(len(stocks))\n",
        "            weights /= np.sum(weights)\n",
        "            weightsCol.append(weights)\n",
        "            port_return = self.PortfolioReturn(weights)\n",
        "            port_volatility = self.PortfolioVolatility(weights)\n",
        "            returnCol.append(port_return)\n",
        "            volatilityCol.append(port_volatility)\n",
        "            sharperatioCol.append((port_return - 0.01) / port_volatility)\n",
        "\n",
        "        returnCol = np.array(returnCol)\n",
        "        volatilityCol = np.array(volatilityCol)\n",
        "        sharperatioCol = np.array(sharperatioCol)\n",
        "\n",
        "        max_sharpe_idx = sharperatioCol.argmax()\n",
        "        optimal_weights = weightsCol[max_sharpe_idx]\n",
        "\n",
        "        return returnCol, volatilityCol, sharperatioCol, optimal_weights\n",
        "\n",
        "#LINEAR REGRESSION\n",
        "    def sharpeMinzd(self, weight):\n",
        "        return -(self.PortfolioReturn(weight)-.02) / self.PortfolioVolatility(weight)\n",
        "\n",
        "constraints = ({'type': 'eq', 'fun': lambda x: np.sum(x) - 1})\n",
        "bounds = tuple((0, 1) for x in range(len(stocks)))\n",
        "eWV = np.array(len(stocks) * [1.0 / len(stocks),])\n",
        "\n",
        "ef = EfficientFrontier(returns=returns, assets=stocks)\n",
        "\n",
        "sharpeOptimized = sco.minimize(ef.sharpeMinzd,\n",
        "                             eWV,\n",
        "                             method = 'SLSQP',\n",
        "                             bounds = bounds,\n",
        "                             constraints = constraints)\n",
        "volOptimized = sco.minimize(ef.PortfolioVolatility,\n",
        "                            eWV,\n",
        "                            method = 'SLSQP',\n",
        "                            bounds = bounds,\n",
        "                            constraints = constraints)\n",
        "\n",
        "treturns = np.linspace(min(returnCol), max(returnCol), 50)\n",
        "tvolatility = []\n",
        "\n",
        "for treturn in treturns:\n",
        "    cons = ({'type': 'eq', 'fun': lambda x: ef.PortfolioReturn(x) - treturn},\n",
        "            {'type': 'eq', 'fun': lambda x: np.sum(x) - 1})\n",
        "    res = sco.minimize(ef.PortfolioVolatility, eWV, method='SLSQP', bounds=bounds, constraints=cons)\n",
        "    tvolatility.append(res['fun'])\n",
        "\n",
        "tvolatility = np.array(tvolatility)"
      ],
      "metadata": {
        "id": "1-Cd7ljsXhjn"
      },
      "execution_count": null,
      "outputs": []
    }
  ]
}