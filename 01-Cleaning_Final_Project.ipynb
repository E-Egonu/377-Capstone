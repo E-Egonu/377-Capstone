{
  "nbformat": 4,
  "nbformat_minor": 0,
  "metadata": {
    "colab": {
      "provenance": []
    },
    "kernelspec": {
      "name": "python3",
      "display_name": "Python 3"
    },
    "language_info": {
      "name": "python"
    }
  },
  "cells": [
    {
      "cell_type": "code",
      "execution_count": null,
      "metadata": {
        "id": "mytFpQunl5Sv"
      },
      "outputs": [],
      "source": [
        "import yfinance as yf\n",
        "import pandas as pd\n",
        "import numpy as np\n",
        "import datetime as dt"
      ]
    },
    {
      "cell_type": "markdown",
      "source": [
        "Assets universe will be coming from\n",
        "SSGA website which list all stocks on the S&P500"
      ],
      "metadata": {
        "id": "s9Dm4pFLmdZH"
      }
    },
    {
      "cell_type": "code",
      "source": [
        "ssga = \"https://www.ssga.com/us/en/individual/etfs/library-content/products/fund-data/etfs/us/holdings-daily-us-en-spy.xlsx\"\n",
        "spy_listings = list(pd.read_excel(ssga, header=4).Ticker.dropna())\n",
        "data = yf.download(spy_listings, period=\"10y\")\n",
        "data = data.dropna(how=\"all\", axis=1)\n",
        "tickers = list(data['Close'])"
      ],
      "metadata": {
        "colab": {
          "base_uri": "https://localhost:8080/"
        },
        "id": "T9dGGn3DmK_T",
        "outputId": "6d15fe3a-16dd-4a73-bf69-7795c219e9c9"
      },
      "execution_count": null,
      "outputs": [
        {
          "output_type": "stream",
          "name": "stdout",
          "text": [
            "YF.download() has changed argument auto_adjust default to True\n"
          ]
        },
        {
          "output_type": "stream",
          "name": "stderr",
          "text": [
            "[*********************100%***********************]  505 of 505 completed\n",
            "ERROR:yfinance:\n",
            "3 Failed downloads:\n",
            "ERROR:yfinance:['-', 'BRK.B']: YFPricesMissingError('possibly delisted; no price data found  (period=10y) (Yahoo error = \"No data found, symbol may be delisted\")')\n",
            "ERROR:yfinance:['BF.B']: YFPricesMissingError('possibly delisted; no price data found  (period=10y)')\n"
          ]
        }
      ]
    },
    {
      "cell_type": "markdown",
      "source": [
        "yfinance failed to download 3 tickers, 'US Dollar', 'Brown Forman Corp Class B', and 'Berkshire Hathaway Inc Class B'"
      ],
      "metadata": {
        "id": "7wbvkjosm6w5"
      }
    },
    {
      "cell_type": "markdown",
      "source": [
        "We will do a removal of all nan's in the dataframe"
      ],
      "metadata": {
        "id": "VgkBP9DK23zR"
      }
    },
    {
      "cell_type": "code",
      "source": [
        "# prompt: count the number of nans in the dataframe data\n",
        "data.isnull().sum().sum()\n",
        "\n",
        "# prompt: code that removes all nans files across the axis\n",
        "data = data.dropna(axis=0)\n",
        "\n",
        "#check wuill confirm all nans are removed\n",
        "data.isnull().sum().sum()"
      ],
      "metadata": {
        "colab": {
          "base_uri": "https://localhost:8080/"
        },
        "id": "RoVvmi5-tzur",
        "outputId": "768eeca0-504e-4940-bc7e-4bbec4df62d5"
      },
      "execution_count": null,
      "outputs": [
        {
          "output_type": "execute_result",
          "data": {
            "text/plain": [
              "np.int64(0)"
            ]
          },
          "metadata": {},
          "execution_count": 7
        }
      ]
    }
  ]
}